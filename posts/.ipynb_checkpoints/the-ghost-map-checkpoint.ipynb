{
 "cells": [
  {
   "cell_type": "markdown",
   "metadata": {},
   "source": [
    "Write your post here."
   ]
  },
  {
   "cell_type": "markdown",
   "metadata": {},
   "source": [
    "#The Ghost Map"
   ]
  },
  {
   "cell_type": "markdown",
   "metadata": {},
   "source": [
    "“Everything is related to everything else, but near things are more related than distant things.” ~ Tobler’s First Law of Geography"
   ]
  },
  {
   "cell_type": "code",
   "execution_count": null,
   "metadata": {},
   "outputs": [],
   "source": []
  }
 ],
 "metadata": {
  "kernelspec": {
   "display_name": "Python 3",
   "language": "python",
   "name": "python3"
  },
  "language_info": {
   "codemirror_mode": {
    "name": "ipython",
    "version": 3
   },
   "file_extension": ".py",
   "mimetype": "text/x-python",
   "name": "python",
   "nbconvert_exporter": "python",
   "pygments_lexer": "ipython3",
   "version": "3.6.3"
  },
  "nikola": {
   "category": "",
   "date": "2017-12-15 23:35:03 UTC",
   "description": "",
   "link": "",
   "slug": "the-ghost-map",
   "tags": "",
   "title": "The Ghost Map",
   "type": "text"
  }
 },
 "nbformat": 4,
 "nbformat_minor": 2
}
