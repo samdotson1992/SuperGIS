{
 "cells": [
  {
   "cell_type": "markdown",
   "metadata": {},
   "source": [
    "Computational geometry is the study of algorithms which relate to geometry and often serves as the bedrock for many GIS functionalities. On the surface a problem in CG can look quite simple, yet when trying to write code for it can quickly a daunting yet fun challenge. Thankfully many problems in GC have been solved and there are mature libraries full of solutions, [CGAL](https://www.cgal.org/) is probably the most promonent. There are Python bindings to it and is used in applications like QGIS. That being said, being able to solve problems in CG isn't needed to be able to understand and use the existing concepts and solutions."
   ]
  },
  {
   "cell_type": "markdown",
   "metadata": {},
   "source": [
    "Common problems in CG can appear as such: Which points are in which polygons? To the human eye such a quesition would seem trivial, yet coding it may not come as intutively. For this intro I'm going to focus on one of the most fundamental concepts in CG- the [convex hull](https://en.wikipedia.org/wiki/Convex_hull). Imagine you had some on a board and tied a rubber band around them, that would produce the shape of a convex hull. It is the minimum bounding area for a spatial features (points, polygon or line)  and it must be convex. "
   ]
  },
  {
   "cell_type": "code",
   "execution_count": 1,
   "metadata": {},
   "outputs": [],
   "source": [
    "from shapely.geometry import MultiPoint"
   ]
  },
  {
   "cell_type": "code",
   "execution_count": 2,
   "metadata": {},
   "outputs": [
    {
     "data": {
      "image/svg+xml": [
       "<svg xmlns=\"http://www.w3.org/2000/svg\" xmlns:xlink=\"http://www.w3.org/1999/xlink\" width=\"300\" height=\"300\" viewBox=\"-320.8 -40.8 371.6 561.5999999999999\" preserveAspectRatio=\"xMinYMin meet\"><g transform=\"matrix(1,0,0,-1,0,479.99999999999994)\"><g><circle cx=\"-300.0\" cy=\"100.0\" r=\"5.615999999999999\" stroke=\"#555555\" stroke-width=\"1.8719999999999997\" fill=\"#66cc99\" opacity=\"0.6\" /><circle cx=\"30.0\" cy=\"-20.0\" r=\"5.615999999999999\" stroke=\"#555555\" stroke-width=\"1.8719999999999997\" fill=\"#66cc99\" opacity=\"0.6\" /><circle cx=\"-300.0\" cy=\"2.0\" r=\"5.615999999999999\" stroke=\"#555555\" stroke-width=\"1.8719999999999997\" fill=\"#66cc99\" opacity=\"0.6\" /><circle cx=\"-52.0\" cy=\"400.0\" r=\"5.615999999999999\" stroke=\"#555555\" stroke-width=\"1.8719999999999997\" fill=\"#66cc99\" opacity=\"0.6\" /><circle cx=\"-100.0\" cy=\"500.0\" r=\"5.615999999999999\" stroke=\"#555555\" stroke-width=\"1.8719999999999997\" fill=\"#66cc99\" opacity=\"0.6\" /><circle cx=\"-31.0\" cy=\"40.0\" r=\"5.615999999999999\" stroke=\"#555555\" stroke-width=\"1.8719999999999997\" fill=\"#66cc99\" opacity=\"0.6\" /></g></g></svg>"
      ],
      "text/plain": [
       "<shapely.geometry.multipoint.MultiPoint at 0x7f6d702f4d68>"
      ]
     },
     "execution_count": 2,
     "metadata": {},
     "output_type": "execute_result"
    }
   ],
   "source": [
    "mp=MultiPoint([(-300, 100), (30, -20), (-300, 2),(-52, 400),  (-100, 500) ,(-31, 40)])\n",
    "mp"
   ]
  },
  {
   "cell_type": "code",
   "execution_count": 3,
   "metadata": {},
   "outputs": [
    {
     "data": {
      "image/svg+xml": [
       "<svg xmlns=\"http://www.w3.org/2000/svg\" xmlns:xlink=\"http://www.w3.org/1999/xlink\" width=\"300\" height=\"300\" viewBox=\"-320.8 -40.8 371.6 561.5999999999999\" preserveAspectRatio=\"xMinYMin meet\"><g transform=\"matrix(1,0,0,-1,0,479.99999999999994)\"><path fill-rule=\"evenodd\" fill=\"#66cc99\" stroke=\"#555555\" stroke-width=\"3.7439999999999993\" opacity=\"0.6\" d=\"M 30.0,-20.0 L -300.0,2.0 L -300.0,100.0 L -100.0,500.0 L -52.0,400.0 L 30.0,-20.0 z\" /></g></svg>"
      ],
      "text/plain": [
       "<shapely.geometry.polygon.Polygon at 0x7f6d702f4860>"
      ]
     },
     "execution_count": 3,
     "metadata": {},
     "output_type": "execute_result"
    }
   ],
   "source": [
    "mp.convex_hull\n"
   ]
  },
  {
   "cell_type": "markdown",
   "metadata": {},
   "source": [
    "Now we are going to go over A.M. Andrew's Monotone Chain solution which can be solved in *O(nlog-n)* time. This solution and others can be found [here](https://en.wikibooks.org/wiki/Algorithm_Implementation/Geometry/Convex_hull/Monotone_chain)"
   ]
  },
  {
   "cell_type": "code",
   "execution_count": 4,
   "metadata": {},
   "outputs": [],
   "source": [
    "def convex_hull_monotone(points):\n",
    "    \"\"\"Computes the convex hull of a set of 2D points.\n",
    "\n",
    "    Input: an iterable sequence of (x, y) pairs representing the points.\n",
    "    Output: a list of vertices of the convex hull in counter-clockwise order,\n",
    "      starting from the vertex with the lexicographically smallest coordinates.\n",
    "    Implements Andrew's monotone chain algorithm. O(n log n) complexity.\n",
    "    \"\"\"\n",
    "\n",
    "    # Sort the points lexicographically (tuples are compared lexicographically).\n",
    "    # Remove duplicates to detect the case we have just one unique point.\n",
    "    points = sorted(set(points))\n",
    "\n",
    "    # Boring case: no points or a single point, possibly repeated multiple times.\n",
    "    if len(points) <= 1:\n",
    "        return points\n",
    "\n",
    "    # 2D cross product of OA and OB vectors, i.e. z-component of their 3D cross product.\n",
    "    # Returns a positive value, if OAB makes a counter-clockwise turn,\n",
    "    # negative for clockwise turn, and zero if the points are collinear.\n",
    "    def cross(o, a, b):\n",
    "        return (a[0] - o[0]) * (b[1] - o[1]) - (a[1] - o[1]) * (b[0] - o[0])\n",
    "\n",
    "    # Build lower hull \n",
    "    lower = []\n",
    "    for p in points:\n",
    "        while len(lower) >= 2 and cross(lower[-2], lower[-1], p) <= 0:\n",
    "            lower.pop()\n",
    "        lower.append(p)\n",
    "\n",
    "    # Build upper hull\n",
    "    upper = []\n",
    "    for p in reversed(points):\n",
    "        while len(upper) >= 2 and cross(upper[-2], upper[-1], p) <= 0:\n",
    "            upper.pop()\n",
    "        upper.append(p)\n",
    "\n",
    "    # Concatenation of the lower and upper hulls gives the convex hull.\n",
    "    # Last point of each list is omitted because it is repeated at the beginning of the other list. \n",
    "    return lower[:-1] + upper[:-1]"
   ]
  },
  {
   "cell_type": "code",
   "execution_count": null,
   "metadata": {},
   "outputs": [],
   "source": []
  },
  {
   "cell_type": "code",
   "execution_count": null,
   "metadata": {},
   "outputs": [],
   "source": []
  },
  {
   "cell_type": "code",
   "execution_count": null,
   "metadata": {
    "scrolled": true
   },
   "outputs": [],
   "source": []
  },
  {
   "cell_type": "code",
   "execution_count": null,
   "metadata": {},
   "outputs": [],
   "source": []
  }
 ],
 "metadata": {
  "kernelspec": {
   "display_name": "Python 3",
   "language": "python",
   "name": "python3"
  },
  "language_info": {
   "codemirror_mode": {
    "name": "ipython",
    "version": 3
   },
   "file_extension": ".py",
   "mimetype": "text/x-python",
   "name": "python",
   "nbconvert_exporter": "python",
   "pygments_lexer": "ipython3",
   "version": "3.6.3"
  },
  "nikola": {
   "category": "",
   "date": "2017-12-21 22:42:57 UTC",
   "description": "",
   "link": "",
   "slug": "computational-geometry-part-i-convex-hull",
   "tags": "",
   "title": "Computational Geometry Part I: Convex Hull",
   "type": "text"
  }
 },
 "nbformat": 4,
 "nbformat_minor": 2
}
