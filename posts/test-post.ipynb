{
 "cells": [
  {
   "cell_type": "markdown",
   "metadata": {},
   "source": [
    "Write your post here."
   ]
  }
 ],
 "metadata": {
  "kernelspec": {
   "display_name": "Python 3",
   "env": {},
   "language": "python",
   "name": "python3"
  },
  "nikola": {
   "category": "",
   "date": "2017-12-16 11:03:21 UTC",
   "description": "",
   "link": "",
   "slug": "test-post",
   "tags": "",
   "title": "Test Post",
   "type": "text"
  }
 },
 "nbformat": 4,
 "nbformat_minor": 2
}
