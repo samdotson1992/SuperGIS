{
 "cells": [
  {
   "cell_type": "markdown",
   "metadata": {},
   "source": [
    "Write your post here."
   ]
  }
 ],
 "metadata": {
  "kernelspec": {
   "display_name": "Python 3",
   "env": {},
   "language": "python",
   "name": "python3"
  },
  "nikola": {
   "category": "",
   "date": "2017-12-18 12:10:09 UTC",
   "description": "",
   "link": "",
   "slug": "making-maps-with-r",
   "tags": "",
   "title": "Making maps with R",
   "type": "text"
  }
 },
 "nbformat": 4,
 "nbformat_minor": 2
}
