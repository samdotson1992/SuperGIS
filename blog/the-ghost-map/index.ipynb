{
 "cells": [
  {
   "cell_type": "markdown",
   "metadata": {},
   "source": [
    "Some would argue Geospatial analysis didn't come into being until computers were available, I would argue otherwise. Note I'm not using the term GIS in this context, because it's too broad and ambiguous. John Snow is credited as the father of modern Epidemiology (not the Game of Thrones character), could arguably also be the grandfather of geospatial analysis. In 1854 John Snow was investigating a cholera outbreak in Soho, London. To do this he plotted death locations on a map and discovered a trend, everything was near the broad street pump. At the time the widely help belief was the disease was transmitted via \"foul air\", John disagreed and thought it was due to contaminated water and his map helped him prove it. Today we still have John's original map and data; so why not replicate his study using more modern tools.\n"
   ]
  },
  {
   "cell_type": "markdown",
   "metadata": {},
   "source": [
    "“Everything is related to everything else, but near things are more related than distant things.” ~ Tobler’s First Law of Geography"
   ]
  },
  {
   "cell_type": "markdown",
   "metadata": {},
   "source": [
    "First we must begin by importing our python packages. If you're not sure how to do this, here's a site that explains it rather well:  [Installing Python modules with pip](https://programminghistorian.org/lessons/installing-python-modules-pip). And also note that I'm using Python 3.6, so certian parts with the code will be imcompatible with Python 2. "
   ]
  },
  {
   "cell_type": "markdown",
   "metadata": {},
   "source": [
    "Here's Dr. Snow's original map, if you'd like to read more into his work go checkout this [wikipedia article](https://en.wikipedia.org/wiki/1854_Broad_Street_cholera_outbreak)"
   ]
  },
  {
   "cell_type": "markdown",
   "metadata": {},
   "source": [
    "![Snow's original Map](images/SnowsMap.svg)"
   ]
  },
  {
   "cell_type": "code",
   "execution_count": 1,
   "metadata": {},
   "outputs": [],
   "source": [
    "import geopandas as gp \n",
    "import numpy as np\n",
    "import pandas as pd\n",
    "import matplotlib.pyplot as plt\n",
    "import folium \n",
    "import shapely"
   ]
  },
  {
   "cell_type": "markdown",
   "metadata": {},
   "source": [
    "Next we need to get our data, the data I'm using can be downloaded here [data](www.rtwilson.com/downloads/SnowGIS_v2.zip)"
   ]
  },
  {
   "cell_type": "code",
   "execution_count": 2,
   "metadata": {},
   "outputs": [],
   "source": [
    "cholera=gp.read_file(\"SnowGIS_SHP/Cholera_Deaths.shp\")\n",
    "pumps=gp.read_file('SnowGIS_SHP/Pumps.shp')\n",
    "# Note that Geopandas is very flexible when it comes to accepting data types, it can read GeoJSON, ESRI Shapefiles and KML\n",
    "# to name a few. "
   ]
  },
  {
   "cell_type": "markdown",
   "metadata": {},
   "source": [
    "To paraphase on of my stats professors- \"Before you do anything, always plot your data\". So that's exactly what we're going to do. Right now I'm not going to spent much time worrying about analysis or cartographic design, all I want to do is get a fell for the data.  "
   ]
  },
  {
   "cell_type": "code",
   "execution_count": 3,
   "metadata": {},
   "outputs": [
    {
     "data": {
      "image/png": "[encoded data removed]",
      "text/plain": [
       "<matplotlib.figure.Figure at 0x7f5930c16978>"
      ]
     },
     "metadata": {},
     "output_type": "display_data"
    }
   ],
   "source": [
    "f, ax = plt.subplots(1, figsize=(15, 10))\n",
    "ax.set_title(\"Let's take at look at our data\" , fontsize=17)\n",
    "ax.set_axis_off()\n",
    "plt.axis('equal')\n",
    "cholera.plot(ax=ax)\n",
    "pumps.plot(ax=ax, markersize=100)\n",
    "plt.show()"
   ]
  },
  {
   "cell_type": "markdown",
   "metadata": {},
   "source": [
    "One of my favorite functions in Pandas is actually the .head() function, it lets you return 5 rows any dataframe. It's import to actually look at your data, that way you'll know the field names, get a guess at the data types (string, float, int...) and see if there's anything awry (lots of null values, mixed datatypes, random gibberish, unknowns, insane numbers, all the values read 666 or kitten infestation).  "
   ]
  },
  {
   "cell_type": "code",
   "execution_count": 4,
   "metadata": {},
   "outputs": [
    {
     "data": {
      "text/html": [
       "<div>\n",
       "<style scoped>\n",
       "    .dataframe tbody tr th:only-of-type {\n",
       "        vertical-align: middle;\n",
       "    }\n",
       "\n",
       "    .dataframe tbody tr th {\n",
       "        vertical-align: top;\n",
       "    }\n",
       "\n",
       "    .dataframe thead th {\n",
       "        text-align: right;\n",
       "    }\n",
       "</style>\n",
       "<table border=\"1\" class=\"dataframe\">\n",
       "  <thead>\n",
       "    <tr style=\"text-align: right;\">\n",
       "      <th></th>\n",
       "      <th>Id</th>\n",
       "      <th>Count</th>\n",
       "      <th>geometry</th>\n",
       "    </tr>\n",
       "  </thead>\n",
       "  <tbody>\n",
       "    <tr>\n",
       "      <th>0</th>\n",
       "      <td>0</td>\n",
       "      <td>3</td>\n",
       "      <td>POINT (529308.7414200425 181031.3515464273)</td>\n",
       "    </tr>\n",
       "    <tr>\n",
       "      <th>1</th>\n",
       "      <td>0</td>\n",
       "      <td>2</td>\n",
       "      <td>POINT (529312.163571333 181025.1724011325)</td>\n",
       "    </tr>\n",
       "    <tr>\n",
       "      <th>2</th>\n",
       "      <td>0</td>\n",
       "      <td>1</td>\n",
       "      <td>POINT (529314.3824294576 181020.2936884186)</td>\n",
       "    </tr>\n",
       "    <tr>\n",
       "      <th>3</th>\n",
       "      <td>0</td>\n",
       "      <td>1</td>\n",
       "      <td>POINT (529317.3796448297 181014.2587706869)</td>\n",
       "    </tr>\n",
       "    <tr>\n",
       "      <th>4</th>\n",
       "      <td>0</td>\n",
       "      <td>4</td>\n",
       "      <td>POINT (529320.6754489439 181007.8716281414)</td>\n",
       "    </tr>\n",
       "  </tbody>\n",
       "</table>\n",
       "</div>"
      ],
      "text/plain": [
       "   Id  Count                                     geometry\n",
       "0   0      3  POINT (529308.7414200425 181031.3515464273)\n",
       "1   0      2   POINT (529312.163571333 181025.1724011325)\n",
       "2   0      1  POINT (529314.3824294576 181020.2936884186)\n",
       "3   0      1  POINT (529317.3796448297 181014.2587706869)\n",
       "4   0      4  POINT (529320.6754489439 181007.8716281414)"
      ]
     },
     "execution_count": 4,
     "metadata": {},
     "output_type": "execute_result"
    }
   ],
   "source": [
    "cholera.head()"
   ]
  },
  {
   "cell_type": "code",
   "execution_count": 5,
   "metadata": {},
   "outputs": [
    {
     "data": {
      "text/html": [
       "<div>\n",
       "<style scoped>\n",
       "    .dataframe tbody tr th:only-of-type {\n",
       "        vertical-align: middle;\n",
       "    }\n",
       "\n",
       "    .dataframe tbody tr th {\n",
       "        vertical-align: top;\n",
       "    }\n",
       "\n",
       "    .dataframe thead th {\n",
       "        text-align: right;\n",
       "    }\n",
       "</style>\n",
       "<table border=\"1\" class=\"dataframe\">\n",
       "  <thead>\n",
       "    <tr style=\"text-align: right;\">\n",
       "      <th></th>\n",
       "      <th>Id</th>\n",
       "      <th>geometry</th>\n",
       "    </tr>\n",
       "  </thead>\n",
       "  <tbody>\n",
       "    <tr>\n",
       "      <th>0</th>\n",
       "      <td>0</td>\n",
       "      <td>POINT (529396.5393954368 181025.0630474603)</td>\n",
       "    </tr>\n",
       "    <tr>\n",
       "      <th>1</th>\n",
       "      <td>0</td>\n",
       "      <td>POINT (529192.5378675429 181079.391379651)</td>\n",
       "    </tr>\n",
       "    <tr>\n",
       "      <th>2</th>\n",
       "      <td>0</td>\n",
       "      <td>POINT (529183.7397662739 181193.7350126951)</td>\n",
       "    </tr>\n",
       "    <tr>\n",
       "      <th>3</th>\n",
       "      <td>0</td>\n",
       "      <td>POINT (529748.9110886676 180924.2072511902)</td>\n",
       "    </tr>\n",
       "    <tr>\n",
       "      <th>4</th>\n",
       "      <td>0</td>\n",
       "      <td>POINT (529613.205238149 180896.8041211955)</td>\n",
       "    </tr>\n",
       "  </tbody>\n",
       "</table>\n",
       "</div>"
      ],
      "text/plain": [
       "   Id                                     geometry\n",
       "0   0  POINT (529396.5393954368 181025.0630474603)\n",
       "1   0   POINT (529192.5378675429 181079.391379651)\n",
       "2   0  POINT (529183.7397662739 181193.7350126951)\n",
       "3   0  POINT (529748.9110886676 180924.2072511902)\n",
       "4   0   POINT (529613.205238149 180896.8041211955)"
      ]
     },
     "execution_count": 5,
     "metadata": {},
     "output_type": "execute_result"
    }
   ],
   "source": [
    "pumps.head()"
   ]
  },
  {
   "cell_type": "markdown",
   "metadata": {},
   "source": [
    "So it would seem that we don't know the pump names. Now that we know a little bit more about our data why not make the same plot we did before, but this time let's make the marker size depend upon the death count. To do this I'm going to create a new field in the GeoDataFrame. "
   ]
  },
  {
   "cell_type": "code",
   "execution_count": 6,
   "metadata": {},
   "outputs": [],
   "source": [
    "cholera['markersize']= cholera['Count']*15"
   ]
  },
  {
   "cell_type": "markdown",
   "metadata": {},
   "source": [
    "What I'm going to do here is create a map in which the marker size is dependent upon the death count. This is just to help us get a feel for our data. "
   ]
  },
  {
   "cell_type": "code",
   "execution_count": 7,
   "metadata": {},
   "outputs": [
    {
     "data": {
      "image/png": "[encoded data removed]",
      "text/plain": [
       "<matplotlib.figure.Figure at 0x7f592e87cd30>"
      ]
     },
     "metadata": {},
     "output_type": "display_data"
    }
   ],
   "source": [
    "f, ax = plt.subplots(1, figsize=(20, 15))\n",
    "ax.set_title(\"Premilary Analysis\" , fontsize=35)\n",
    "ax.set_axis_off()\n",
    "plt.axis('equal')\n",
    "cholera.plot(ax=ax, markersize= cholera['markersize'])\n",
    "pumps.plot(ax=ax, markersize=200)\n",
    "plt.show()"
   ]
  },
  {
   "cell_type": "markdown",
   "metadata": {},
   "source": [
    "I went ahead and did some work in QGIS "
   ]
  },
  {
   "cell_type": "markdown",
   "metadata": {},
   "source": [
    "![image](/assets/images/vor_pip.svg)"
   ]
  },
  {
   "cell_type": "markdown",
   "metadata": {},
   "source": [
    "![image](/assets/images/heat_map.svg)\n",
    "\n"
   ]
  },
  {
   "cell_type": "code",
   "execution_count": null,
   "metadata": {},
   "outputs": [],
   "source": []
  },
  {
   "cell_type": "code",
   "execution_count": null,
   "metadata": {},
   "outputs": [],
   "source": []
  },
  {
   "cell_type": "code",
   "execution_count": null,
   "metadata": {},
   "outputs": [],
   "source": []
  },
  {
   "cell_type": "code",
   "execution_count": null,
   "metadata": {},
   "outputs": [],
   "source": []
  },
  {
   "cell_type": "code",
   "execution_count": null,
   "metadata": {},
   "outputs": [],
   "source": []
  },
  {
   "cell_type": "code",
   "execution_count": null,
   "metadata": {},
   "outputs": [],
   "source": []
  },
  {
   "cell_type": "code",
   "execution_count": null,
   "metadata": {},
   "outputs": [],
   "source": []
  },
  {
   "cell_type": "code",
   "execution_count": null,
   "metadata": {},
   "outputs": [],
   "source": [
    "    "
   ]
  },
  {
   "cell_type": "code",
   "execution_count": null,
   "metadata": {},
   "outputs": [],
   "source": []
  },
  {
   "cell_type": "code",
   "execution_count": null,
   "metadata": {},
   "outputs": [],
   "source": []
  },
  {
   "cell_type": "code",
   "execution_count": null,
   "metadata": {},
   "outputs": [],
   "source": []
  },
  {
   "cell_type": "code",
   "execution_count": null,
   "metadata": {},
   "outputs": [],
   "source": []
  }
 ],
 "metadata": {
  "kernelspec": {
   "display_name": "Python 3",
   "language": "python",
   "name": "python3"
  },
  "language_info": {
   "codemirror_mode": {
    "name": "ipython",
    "version": 3
   },
   "file_extension": ".py",
   "mimetype": "text/x-python",
   "name": "python",
   "nbconvert_exporter": "python",
   "pygments_lexer": "ipython3",
   "version": "3.6.3"
  },
  "nikola": {
   "category": "",
   "date": "2017-12-15 23:35:03 UTC",
   "description": "",
   "link": "",
   "slug": "the-ghost-map",
   "tags": "",
   "title": "The Ghost Map",
   "type": "text"
  }
 },
 "nbformat": 4,
 "nbformat_minor": 2
}
